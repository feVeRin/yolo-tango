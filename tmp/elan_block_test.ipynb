{
 "cells": [
  {
   "cell_type": "code",
   "execution_count": 23,
   "metadata": {},
   "outputs": [],
   "source": [
    "import torch\n",
    "import torch.nn as nn\n",
    "\n",
    "# yolov7 commons \n",
    "class Conv(nn.Module):\n",
    "    # Standard convolution\n",
    "    def __init__(self, c1, c2, k=1, s=1, p=None, g=1, act=True):  # ch_in, ch_out, kernel, stride, padding, groups\n",
    "        super(Conv, self).__init__()\n",
    "        p=k//2\n",
    "        self.conv = nn.Conv2d(c1, c2, k, s, p, groups=g, bias=False)\n",
    "        self.bn = nn.BatchNorm2d(c2)\n",
    "        self.act = nn.SiLU() if act is True else (act if isinstance(act, nn.Module) else nn.Identity())\n",
    "\n",
    "    def forward(self, x):\n",
    "        return self.act(self.bn(self.conv(x)))\n",
    "\n",
    "    def fuseforward(self, x):\n",
    "        return self.act(self.conv(x))\n",
    "    \n",
    "class Concat(nn.Module):\n",
    "    def __init__(self, dimension=1):\n",
    "        super(Concat, self).__init__()\n",
    "        self.d = dimension\n",
    "\n",
    "    def forward(self, x):\n",
    "        return torch.cat(x, self.d)"
   ]
  },
  {
   "attachments": {},
   "cell_type": "markdown",
   "metadata": {},
   "source": [
    "Backbone ELAN Module"
   ]
  },
  {
   "cell_type": "code",
   "execution_count": 24,
   "metadata": {},
   "outputs": [],
   "source": [
    "class BBone_ELAN(nn.Module):\n",
    "    def __init__(self, chan1, chan2, ker, depth):\n",
    "        super(BBone_ELAN, self).__init__()\n",
    "\n",
    "        self.chan1 = chan1 # input channel size\n",
    "        self.chan2 = chan2 # output channel size (= input_channel // 2)\n",
    "        self.ker = ker # kernel size\n",
    "        self.depth = depth # depth (could be variable)\n",
    "\n",
    "        self.idx = [idx for idx in range(self.depth * 2) if (idx % 2 == 1 or idx == 0)] #include idx 0 always\n",
    "\n",
    "        elans = {} # elan module dictionary\n",
    "        for d in range(self.depth*2):\n",
    "            elans['BBoneELAN_{0}'.format(d+1)] = self.construct_elan(d) # ELAN block consturct\n",
    "\n",
    "        self.elan_dict = nn.ModuleDict(elans) # ELAN module dictionary to ModuleDict\n",
    "        self.cat = Concat(dimension=1) # from yolov7 modules\n",
    "\n",
    "    def construct_elan(self, depth):\n",
    "        '''\n",
    "        construct ELAN modules\n",
    "        '''\n",
    "        elan = nn.Sequential()\n",
    "\n",
    "        if depth == 0:\n",
    "            elan.add_module('Conv_1', Conv(self.chan1, self.chan2, 1, 1))\n",
    "\n",
    "        else:\n",
    "            for i in range(depth):\n",
    "              if i == 0:\n",
    "                elan.add_module('Conv_{0}'.format(i+2), Conv(self.chan1, self.chan2, 1, 1))\n",
    "              else:\n",
    "                elan.add_module('Conv_{0}'.format(i+2), Conv(self.chan2, self.chan2, self.ker, 1))\n",
    "\n",
    "        return elan\n",
    "    \n",
    "    def forward(self, x):\n",
    "        tmp_out = []\n",
    "        \n",
    "        # idx에 해당하는것 먼저 select하고 for문 돌리는게 나을 수도?\n",
    "\n",
    "        for _, elan in self.elan_dict.items(): # get each elan module output\n",
    "          tmp_out.append(elan(x))\n",
    "        \n",
    "        out = self.cat([tmp_out[d] for d in self.idx]) # concat\n",
    "\n",
    "        return out"
   ]
  },
  {
   "cell_type": "code",
   "execution_count": 25,
   "metadata": {},
   "outputs": [
    {
     "name": "stdout",
     "output_type": "stream",
     "text": [
      "Backbone EALN output shape (depth = 2) : torch.Size([1, 192, 64, 64])\n",
      "Backbone EALN output shape (depth = 3) : torch.Size([1, 256, 64, 64])\n",
      "Backbone EALN output shape (depth = 4) : torch.Size([1, 320, 64, 64])\n",
      "Backbone EALN output shape (depth = 5) : torch.Size([1, 384, 64, 64])\n"
     ]
    }
   ],
   "source": [
    "input = torch.randn(1, 128, 64, 64) #random input\n",
    "\n",
    "# depth 2 -> 192\n",
    "block = BBone_ELAN(chan1=128, chan2=64, ker=3, depth=2)\n",
    "print('Backbone EALN output shape (depth = 2) :', block(input).shape)\n",
    "\n",
    "# depth 3 -> 256\n",
    "block = BBone_ELAN(chan1=128, chan2=64, ker=3, depth=3)\n",
    "print('Backbone EALN output shape (depth = 3) :', block(input).shape)\n",
    "\n",
    "# depth 4 -> 320\n",
    "block = BBone_ELAN(chan1=128, chan2=64, ker=3, depth=4)\n",
    "print('Backbone EALN output shape (depth = 4) :', block(input).shape)\n",
    "\n",
    "# depth 5 -> 384\n",
    "block = BBone_ELAN(chan1=128, chan2=64, ker=3, depth=5)\n",
    "print('Backbone EALN output shape (depth = 5) :', block(input).shape)"
   ]
  },
  {
   "attachments": {},
   "cell_type": "markdown",
   "metadata": {},
   "source": [
    "Head ELAN Module"
   ]
  },
  {
   "cell_type": "code",
   "execution_count": 26,
   "metadata": {},
   "outputs": [],
   "source": [
    "class Head_ELAN(nn.Module):\n",
    "    '''\n",
    "    Head ELAN\n",
    "    '''\n",
    "    def __init__(self, chan1, chan2, ker, depth):\n",
    "        super(Head_ELAN, self).__init__()\n",
    "\n",
    "        self.chan1 = chan1\n",
    "        self.chan2 = chan2\n",
    "        self._chan = chan2 // 2 # hidden channel (channel2 // 2)\n",
    "        self.ker = ker \n",
    "        self.depth = depth \n",
    "\n",
    "        self.idx = [idx for idx in range(self.depth+1)] # use all idx\n",
    "\n",
    "        elans = {}\n",
    "        for d in range(self.depth+1):\n",
    "            elans['HeadELAN_{0}'.format(d+1)] = self.construct_elan(d)\n",
    "\n",
    "        self.elan_dict = nn.ModuleDict(elans)\n",
    "        self.cat = Concat(dimension=1)\n",
    "\n",
    "    def construct_elan(self, depth):\n",
    "        elan = nn.Sequential()\n",
    "\n",
    "        if depth == 0:\n",
    "            elan.add_module('Conv_1', Conv(self.chan1, self.chan2, 1, 1))\n",
    "\n",
    "        else:\n",
    "          for i in range(depth):\n",
    "            if i == 0:\n",
    "                elan.add_module('Conv_{0}'.format(i+2), Conv(self.chan1, self.chan2, 1, 1))\n",
    "            elif i == 1:\n",
    "                elan.add_module('Conv_{0}'.format(i+2), Conv(self.chan2, self._chan, self.ker, 1))\n",
    "            else:\n",
    "                elan.add_module('Conv_{0}'.format(i+2), Conv(self._chan, self._chan, self.ker, 1))\n",
    "\n",
    "        return elan\n",
    "    \n",
    "    def forward(self, x):\n",
    "        tmp_out = []\n",
    "\n",
    "        for _, elan in self.elan_dict.items():\n",
    "          tmp_out.append(elan(x))\n",
    "        \n",
    "        out = self.cat([tmp_out[d] for d in self.idx])\n",
    "\n",
    "        return out"
   ]
  },
  {
   "cell_type": "code",
   "execution_count": 27,
   "metadata": {},
   "outputs": [
    {
     "name": "stdout",
     "output_type": "stream",
     "text": [
      "Head EALN output shape (depth = 2) : torch.Size([1, 640, 64, 64])\n",
      "Head EALN output shape (depth = 3) : torch.Size([1, 768, 64, 64])\n",
      "Head EALN output shape (depth = 4) : torch.Size([1, 896, 64, 64])\n",
      "Head EALN output shape (depth = 5) : torch.Size([1, 1024, 64, 64])\n"
     ]
    }
   ],
   "source": [
    "input = torch.randn(1, 512, 64, 64) #random input\n",
    "\n",
    "# depth 2 -> 640\n",
    "block = Head_ELAN(chan1=512, chan2=256, ker=3, depth=2)\n",
    "print('Head EALN output shape (depth = 2) :', block(input).shape)\n",
    "\n",
    "# depth 3 -> 768\n",
    "block = Head_ELAN(chan1=512, chan2=256, ker=3, depth=3)\n",
    "print('Head EALN output shape (depth = 3) :', block(input).shape)\n",
    "\n",
    "# depth 4 -> 896\n",
    "block = Head_ELAN(chan1=512, chan2=256, ker=3, depth=4)\n",
    "print('Head EALN output shape (depth = 4) :', block(input).shape)\n",
    "\n",
    "# depth 5 -> 1024\n",
    "block = Head_ELAN(chan1=512, chan2=256, ker=3, depth=5)\n",
    "print('Head EALN output shape (depth = 5) :', block(input).shape)"
   ]
  }
 ],
 "metadata": {
  "kernelspec": {
   "display_name": "base",
   "language": "python",
   "name": "python3"
  },
  "language_info": {
   "codemirror_mode": {
    "name": "ipython",
    "version": 3
   },
   "file_extension": ".py",
   "mimetype": "text/x-python",
   "name": "python",
   "nbconvert_exporter": "python",
   "pygments_lexer": "ipython3",
   "version": "3.9.12"
  },
  "orig_nbformat": 4
 },
 "nbformat": 4,
 "nbformat_minor": 2
}
